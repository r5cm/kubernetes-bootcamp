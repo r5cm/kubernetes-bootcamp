{
 "cells": [
  {
   "cell_type": "markdown",
   "metadata": {},
   "source": [
    "# Minikube basics"
   ]
  },
  {
   "cell_type": "markdown",
   "metadata": {
    "vscode": {
     "languageId": "plaintext"
    }
   },
   "source": [
    "## Install and setup (WSL)"
   ]
  },
  {
   "cell_type": "markdown",
   "metadata": {},
   "source": [
    "1. Install Docker-Desktop for Windows\n",
    "2. Install Minikube for Windows\n",
    "3. Install Kubectl in WSL\n",
    "\n",
    "    >```bash\n",
    "    >curl -LO https://storage.googleapis.com/kubernetes-release/release/`curl -s https://storage.googleapis.com/kubernetes-release/release/stable.txt`/bin/linux/amd64/kubectl\n",
    "    >chmod +x ./kubectl\n",
    "    >sudo mv ./kubectl /usr/local/bin/kubectl\n",
    "    >kubectl version --client\n",
    "    >```\n",
    "\n",
    "4. Create `minikube` file with the following script and save it in path.\n",
    "\n",
    "    >```bash\n",
    "    >#!/bin/sh\n",
    "    >/mnt/c/Program\\ Files/Kubernetes/Minikube/minikube.exe $@\n",
    "    >```\n",
    "\n",
    "5. Start minikube\n",
    "\n",
    "    >```bash\n",
    "    >chmod +x minikube\n",
    "    >bash minikube start`\n",
    "    >```\n",
    "\n",
    "6. Copy minikube context, cluster and user configuration from Windows to WSL.\n",
    "\n",
    "    >```bash\n",
    "    >mkdir ~/.kube\n",
    "    >cp /mnt/c/Users/ramir/.kube/config ~/.kube/config \n",
    "    >```\n",
    "\n",
    "7. Create `minikube-go` file with the following script and save it in path.\n",
    "\n",
    "    >```bash\n",
    "    >#!/bin/sh\n",
    "    >eval $(minikube docker-env --shell=bash)\n",
    "    >export DOCKER_CERT_PATH=$(wslpath -u \"${DOCKER_CERT_PATH}\")\n",
    "    >```\n",
    "\n",
    "8. Run `minikube-go` to configure WSL Docker to talk to minikube.\n",
    "\n",
    "    >```bash\n",
    "    >sudo chmod +x minikube-go\n",
    "    >minikube-go\n",
    "    >```\n",
    "\n",
    "9. Check that `minikube` is correctly installed.\n",
    "\n",
    "    >```bash\n",
    "    >minikube version\n",
    "    >```\n"
   ]
  },
  {
   "cell_type": "code",
   "execution_count": 2,
   "metadata": {},
   "outputs": [
    {
     "name": "stdout",
     "output_type": "stream",
     "text": [
      "minikube version: v1.26.0\n",
      "commit: f4b412861bb746be73053c9f6d2895f12cf78565\n"
     ]
    }
   ],
   "source": [
    "%%bash\n",
    "minikube version"
   ]
  },
  {
   "cell_type": "markdown",
   "metadata": {},
   "source": [
    "## Create a cluster"
   ]
  },
  {
   "cell_type": "markdown",
   "metadata": {},
   "source": [
    "Start cluster"
   ]
  },
  {
   "cell_type": "code",
   "execution_count": 1,
   "metadata": {},
   "outputs": [
    {
     "name": "stdout",
     "output_type": "stream",
     "text": [
      "* minikube v1.26.0 en Microsoft Windows 11 Home 10.0.22000 Build 22000\n",
      "* Using the docker driver based on existing profile\n",
      "* Starting control plane node minikube in cluster minikube\n",
      "* Pulling base image ...\n",
      "* Updating the running docker \"minikube\" container ...\n",
      "* Preparando Kubernetes v1.24.1 en Docker 20.10.17...\n",
      "* Verifying Kubernetes components...\n",
      "  - Using image gcr.io/k8s-minikube/storage-provisioner:v5\n",
      "* Complementos habilitados: default-storageclass, storage-provisioner\n",
      "* Done! kubectl is now configured to use \"minikube\" cluster and \"default\" namespace by default\n"
     ]
    }
   ],
   "source": [
    "%%bash\n",
    "minikube start"
   ]
  }
 ],
 "metadata": {
  "kernelspec": {
   "display_name": "Python 3.10.4 ('main')",
   "language": "python",
   "name": "python3"
  },
  "language_info": {
   "codemirror_mode": {
    "name": "ipython",
    "version": 3
   },
   "file_extension": ".py",
   "mimetype": "text/x-python",
   "name": "python",
   "nbconvert_exporter": "python",
   "pygments_lexer": "ipython3",
   "version": "3.10.4"
  },
  "orig_nbformat": 4,
  "vscode": {
   "interpreter": {
    "hash": "47b03cd69c88b9e050093e719cbe9ec8900da537c302f856dad35089a609732c"
   }
  }
 },
 "nbformat": 4,
 "nbformat_minor": 2
}
