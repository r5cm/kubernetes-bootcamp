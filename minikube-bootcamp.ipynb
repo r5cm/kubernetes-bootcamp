{
 "cells": [
  {
   "cell_type": "markdown",
   "metadata": {},
   "source": [
    "# Minikube"
   ]
  },
  {
   "cell_type": "markdown",
   "metadata": {},
   "source": [
    "This notebook contains the basic installation, setup and management of a Kubernetes application, using Minikube. It draws heavily from the following sources:\n",
    "- [AWS ec2 documentation](https://awscli.amazonaws.com/v2/documentation/api/latest/reference/ec2/index.html)\n",
    "- [Learn Kubernetes basics](https://kubernetes.io/docs/tutorials/kubernetes-basics/)\n",
    "- [Minikube documentation](minikube.sigs.k8s.io/docs)\n",
    "- [Kubectl documentation](https://kubernetes.io/docs/reference/kubectl/)"
   ]
  },
  {
   "cell_type": "markdown",
   "metadata": {},
   "source": [
    "Import libraries"
   ]
  },
  {
   "cell_type": "code",
   "execution_count": 3,
   "metadata": {},
   "outputs": [],
   "source": [
    "import pandas as pd\n",
    "pd.set_option('display.max_rows', None)\n",
    "pd.set_option('display.max_colwidth', None)\n",
    "import json"
   ]
  },
  {
   "cell_type": "markdown",
   "metadata": {},
   "source": [
    "## Install and setup (Ubuntu in AWS)"
   ]
  },
  {
   "cell_type": "markdown",
   "metadata": {},
   "source": [
    "### Setup AWS virtual machine"
   ]
  },
  {
   "cell_type": "markdown",
   "metadata": {},
   "source": [
    "List AMIs (can also be found in [Amazon EC2 AMI Locator](https://cloud-images.ubuntu.com/locator/ec2/))"
   ]
  },
  {
   "cell_type": "code",
   "execution_count": 82,
   "metadata": {},
   "outputs": [],
   "source": [
    "%%bash\n",
    "aws ec2 describe-images \\\n",
    "    --filters \"Name=name,Values=ubuntu/images/hvm-ssd/*20.04-amd64*\" \"Name=architecture,Values=x86_64\" \\\n",
    "    --region=us-east-1 \\\n",
    "    --query \"Images[*].[Name, ImageId, Architecture, CreationDate]\" \\\n",
    "    --output json > AMIs.json"
   ]
  },
  {
   "cell_type": "code",
   "execution_count": 83,
   "metadata": {},
   "outputs": [
    {
     "data": {
      "text/html": [
       "<div>\n",
       "<style scoped>\n",
       "    .dataframe tbody tr th:only-of-type {\n",
       "        vertical-align: middle;\n",
       "    }\n",
       "\n",
       "    .dataframe tbody tr th {\n",
       "        vertical-align: top;\n",
       "    }\n",
       "\n",
       "    .dataframe thead th {\n",
       "        text-align: right;\n",
       "    }\n",
       "</style>\n",
       "<table border=\"1\" class=\"dataframe\">\n",
       "  <thead>\n",
       "    <tr style=\"text-align: right;\">\n",
       "      <th></th>\n",
       "      <th>Name</th>\n",
       "      <th>ImageID</th>\n",
       "      <th>Architecture</th>\n",
       "      <th>CreatedDate</th>\n",
       "    </tr>\n",
       "  </thead>\n",
       "  <tbody>\n",
       "    <tr>\n",
       "      <th>68</th>\n",
       "      <td>ubuntu/images/hvm-ssd/ubuntu-focal-20.04-amd64-server-20220627.1-aced0818-eef1-427a-9e04-8ba38bada306</td>\n",
       "      <td>ami-0a20b2fbe7bee1376</td>\n",
       "      <td>x86_64</td>\n",
       "      <td>2022-06-28T01:46:23.000Z</td>\n",
       "    </tr>\n",
       "    <tr>\n",
       "      <th>29</th>\n",
       "      <td>ubuntu/images/hvm-ssd/ubuntu-focal-20.04-amd64-server-20220627.1</td>\n",
       "      <td>ami-0439517b5e436bdab</td>\n",
       "      <td>x86_64</td>\n",
       "      <td>2022-06-28T00:51:25.000Z</td>\n",
       "    </tr>\n",
       "    <tr>\n",
       "      <th>77</th>\n",
       "      <td>ubuntu/images/hvm-ssd/ubuntu-focal-20.04-amd64-server-20220615-aced0818-eef1-427a-9e04-8ba38bada306</td>\n",
       "      <td>ami-0c24d345ea91339ee</td>\n",
       "      <td>x86_64</td>\n",
       "      <td>2022-06-16T02:01:00.000Z</td>\n",
       "    </tr>\n",
       "    <tr>\n",
       "      <th>18</th>\n",
       "      <td>ubuntu/images/hvm-ssd/ubuntu-focal-20.04-amd64-server-20220615</td>\n",
       "      <td>ami-031cf125b681ca3e0</td>\n",
       "      <td>x86_64</td>\n",
       "      <td>2022-06-16T00:57:43.000Z</td>\n",
       "    </tr>\n",
       "    <tr>\n",
       "      <th>26</th>\n",
       "      <td>ubuntu/images/hvm-ssd/ubuntu-focal-20.04-amd64-server-20220610-aced0818-eef1-427a-9e04-8ba38bada306</td>\n",
       "      <td>ami-040b8002416c0ad23</td>\n",
       "      <td>x86_64</td>\n",
       "      <td>2022-06-10T12:36:00.000Z</td>\n",
       "    </tr>\n",
       "  </tbody>\n",
       "</table>\n",
       "</div>"
      ],
      "text/plain": [
       "                                                                                                     Name  \\\n",
       "68  ubuntu/images/hvm-ssd/ubuntu-focal-20.04-amd64-server-20220627.1-aced0818-eef1-427a-9e04-8ba38bada306   \n",
       "29                                       ubuntu/images/hvm-ssd/ubuntu-focal-20.04-amd64-server-20220627.1   \n",
       "77    ubuntu/images/hvm-ssd/ubuntu-focal-20.04-amd64-server-20220615-aced0818-eef1-427a-9e04-8ba38bada306   \n",
       "18                                         ubuntu/images/hvm-ssd/ubuntu-focal-20.04-amd64-server-20220615   \n",
       "26    ubuntu/images/hvm-ssd/ubuntu-focal-20.04-amd64-server-20220610-aced0818-eef1-427a-9e04-8ba38bada306   \n",
       "\n",
       "                  ImageID Architecture               CreatedDate  \n",
       "68  ami-0a20b2fbe7bee1376       x86_64  2022-06-28T01:46:23.000Z  \n",
       "29  ami-0439517b5e436bdab       x86_64  2022-06-28T00:51:25.000Z  \n",
       "77  ami-0c24d345ea91339ee       x86_64  2022-06-16T02:01:00.000Z  \n",
       "18  ami-031cf125b681ca3e0       x86_64  2022-06-16T00:57:43.000Z  \n",
       "26  ami-040b8002416c0ad23       x86_64  2022-06-10T12:36:00.000Z  "
      ]
     },
     "execution_count": 83,
     "metadata": {},
     "output_type": "execute_result"
    }
   ],
   "source": [
    "with open('AMIs.json') as f:\n",
    "    amis_json = json.load(f)\n",
    "\n",
    "amis_df = pd.DataFrame.from_records(amis_json, columns=['Name', 'ImageID', 'Architecture', 'CreatedDate'])\n",
    "amis_df.sort_values('CreatedDate', ascending=False).head()"
   ]
  },
  {
   "cell_type": "markdown",
   "metadata": {},
   "source": [
    "Describe instance types"
   ]
  },
  {
   "cell_type": "code",
   "execution_count": 18,
   "metadata": {},
   "outputs": [],
   "source": [
    "%%bash\n",
    "aws ec2 describe-instance-types \\\n",
    "    --filters Name=vcpu-info.default-cores,Values=2 Name=processor-info.supported-architecture,Values=x86_64 Name=hibernation-supported,Values=true \\\n",
    "    --query \"InstanceTypes[*].[InstanceType, CurrentGeneration]\" \\\n",
    "    > instance_types.json"
   ]
  },
  {
   "cell_type": "code",
   "execution_count": 19,
   "metadata": {},
   "outputs": [
    {
     "data": {
      "text/html": [
       "<div>\n",
       "<style scoped>\n",
       "    .dataframe tbody tr th:only-of-type {\n",
       "        vertical-align: middle;\n",
       "    }\n",
       "\n",
       "    .dataframe tbody tr th {\n",
       "        vertical-align: top;\n",
       "    }\n",
       "\n",
       "    .dataframe thead th {\n",
       "        text-align: right;\n",
       "    }\n",
       "</style>\n",
       "<table border=\"1\" class=\"dataframe\">\n",
       "  <thead>\n",
       "    <tr style=\"text-align: right;\">\n",
       "      <th></th>\n",
       "      <th>InstanceType</th>\n",
       "      <th>CurrentGeneration</th>\n",
       "    </tr>\n",
       "  </thead>\n",
       "  <tbody>\n",
       "    <tr>\n",
       "      <th>0</th>\n",
       "      <td>r5a.xlarge</td>\n",
       "      <td>True</td>\n",
       "    </tr>\n",
       "    <tr>\n",
       "      <th>1</th>\n",
       "      <td>m5d.xlarge</td>\n",
       "      <td>True</td>\n",
       "    </tr>\n",
       "    <tr>\n",
       "      <th>2</th>\n",
       "      <td>t3.xlarge</td>\n",
       "      <td>True</td>\n",
       "    </tr>\n",
       "    <tr>\n",
       "      <th>3</th>\n",
       "      <td>m5.xlarge</td>\n",
       "      <td>True</td>\n",
       "    </tr>\n",
       "    <tr>\n",
       "      <th>4</th>\n",
       "      <td>c5.xlarge</td>\n",
       "      <td>True</td>\n",
       "    </tr>\n",
       "    <tr>\n",
       "      <th>5</th>\n",
       "      <td>t2.large</td>\n",
       "      <td>True</td>\n",
       "    </tr>\n",
       "    <tr>\n",
       "      <th>6</th>\n",
       "      <td>m4.xlarge</td>\n",
       "      <td>True</td>\n",
       "    </tr>\n",
       "    <tr>\n",
       "      <th>7</th>\n",
       "      <td>c3.xlarge</td>\n",
       "      <td>False</td>\n",
       "    </tr>\n",
       "    <tr>\n",
       "      <th>8</th>\n",
       "      <td>r5d.xlarge</td>\n",
       "      <td>True</td>\n",
       "    </tr>\n",
       "    <tr>\n",
       "      <th>9</th>\n",
       "      <td>r5ad.xlarge</td>\n",
       "      <td>True</td>\n",
       "    </tr>\n",
       "    <tr>\n",
       "      <th>10</th>\n",
       "      <td>c5d.xlarge</td>\n",
       "      <td>True</td>\n",
       "    </tr>\n",
       "    <tr>\n",
       "      <th>11</th>\n",
       "      <td>r3.xlarge</td>\n",
       "      <td>False</td>\n",
       "    </tr>\n",
       "    <tr>\n",
       "      <th>12</th>\n",
       "      <td>m5ad.xlarge</td>\n",
       "      <td>True</td>\n",
       "    </tr>\n",
       "    <tr>\n",
       "      <th>13</th>\n",
       "      <td>c4.xlarge</td>\n",
       "      <td>True</td>\n",
       "    </tr>\n",
       "    <tr>\n",
       "      <th>14</th>\n",
       "      <td>r5.xlarge</td>\n",
       "      <td>True</td>\n",
       "    </tr>\n",
       "    <tr>\n",
       "      <th>15</th>\n",
       "      <td>t2.medium</td>\n",
       "      <td>True</td>\n",
       "    </tr>\n",
       "    <tr>\n",
       "      <th>16</th>\n",
       "      <td>r4.xlarge</td>\n",
       "      <td>True</td>\n",
       "    </tr>\n",
       "    <tr>\n",
       "      <th>17</th>\n",
       "      <td>i3.xlarge</td>\n",
       "      <td>True</td>\n",
       "    </tr>\n",
       "    <tr>\n",
       "      <th>18</th>\n",
       "      <td>m3.large</td>\n",
       "      <td>False</td>\n",
       "    </tr>\n",
       "    <tr>\n",
       "      <th>19</th>\n",
       "      <td>m5a.xlarge</td>\n",
       "      <td>True</td>\n",
       "    </tr>\n",
       "    <tr>\n",
       "      <th>20</th>\n",
       "      <td>t3a.xlarge</td>\n",
       "      <td>True</td>\n",
       "    </tr>\n",
       "  </tbody>\n",
       "</table>\n",
       "</div>"
      ],
      "text/plain": [
       "   InstanceType  CurrentGeneration\n",
       "0    r5a.xlarge               True\n",
       "1    m5d.xlarge               True\n",
       "2     t3.xlarge               True\n",
       "3     m5.xlarge               True\n",
       "4     c5.xlarge               True\n",
       "5      t2.large               True\n",
       "6     m4.xlarge               True\n",
       "7     c3.xlarge              False\n",
       "8    r5d.xlarge               True\n",
       "9   r5ad.xlarge               True\n",
       "10   c5d.xlarge               True\n",
       "11    r3.xlarge              False\n",
       "12  m5ad.xlarge               True\n",
       "13    c4.xlarge               True\n",
       "14    r5.xlarge               True\n",
       "15    t2.medium               True\n",
       "16    r4.xlarge               True\n",
       "17    i3.xlarge               True\n",
       "18     m3.large              False\n",
       "19   m5a.xlarge               True\n",
       "20   t3a.xlarge               True"
      ]
     },
     "execution_count": 19,
     "metadata": {},
     "output_type": "execute_result"
    }
   ],
   "source": [
    "with open('instance_types.json', 'r') as f:\n",
    "    instances_json = json.load(f)\n",
    "\n",
    "instances_df = pd.DataFrame.from_records(instances_json, columns=['InstanceType', 'CurrentGeneration'])\n",
    "instances_df"
   ]
  },
  {
   "cell_type": "markdown",
   "metadata": {},
   "source": [
    "Launch instance"
   ]
  },
  {
   "cell_type": "code",
   "execution_count": 20,
   "metadata": {},
   "outputs": [
    {
     "name": "stdout",
     "output_type": "stream",
     "text": [
      "{\n",
      "    \"Groups\": [],\n",
      "    \"Instances\": [\n",
      "        {\n",
      "            \"AmiLaunchIndex\": 0,\n",
      "            \"ImageId\": \"ami-052efd3df9dad4825\",\n",
      "            \"InstanceId\": \"i-02ae84460e0657bd2\",\n",
      "            \"InstanceType\": \"t2.medium\",\n",
      "            \"KeyName\": \"ec2KeyPair\",\n",
      "            \"LaunchTime\": \"2022-07-01T13:36:02+00:00\",\n",
      "            \"Monitoring\": {\n",
      "                \"State\": \"disabled\"\n",
      "            },\n",
      "            \"Placement\": {\n",
      "                \"AvailabilityZone\": \"us-east-1a\",\n",
      "                \"GroupName\": \"\",\n",
      "                \"Tenancy\": \"default\"\n",
      "            },\n",
      "            \"PrivateDnsName\": \"ip-172-31-31-82.ec2.internal\",\n",
      "            \"PrivateIpAddress\": \"172.31.31.82\",\n",
      "            \"ProductCodes\": [],\n",
      "            \"PublicDnsName\": \"\",\n",
      "            \"State\": {\n",
      "                \"Code\": 0,\n",
      "                \"Name\": \"pending\"\n",
      "            },\n",
      "            \"StateTransitionReason\": \"\",\n",
      "            \"SubnetId\": \"subnet-84fdd0ce\",\n",
      "            \"VpcId\": \"vpc-9f18b6e5\",\n",
      "            \"Architecture\": \"x86_64\",\n",
      "            \"BlockDeviceMappings\": [],\n",
      "            \"ClientToken\": \"bee0f56c-bbfa-4667-aee8-1c684fb3180c\",\n",
      "            \"EbsOptimized\": false,\n",
      "            \"EnaSupport\": true,\n",
      "            \"Hypervisor\": \"xen\",\n",
      "            \"NetworkInterfaces\": [\n",
      "                {\n",
      "                    \"Attachment\": {\n",
      "                        \"AttachTime\": \"2022-07-01T13:36:02+00:00\",\n",
      "                        \"AttachmentId\": \"eni-attach-05ebe825eba24cba5\",\n",
      "                        \"DeleteOnTermination\": true,\n",
      "                        \"DeviceIndex\": 0,\n",
      "                        \"Status\": \"attaching\",\n",
      "                        \"NetworkCardIndex\": 0\n",
      "                    },\n",
      "                    \"Description\": \"\",\n",
      "                    \"Groups\": [\n",
      "                        {\n",
      "                            \"GroupName\": \"launch-wizard-1\",\n",
      "                            \"GroupId\": \"sg-07ee2eedb8836a8a1\"\n",
      "                        }\n",
      "                    ],\n",
      "                    \"Ipv6Addresses\": [],\n",
      "                    \"MacAddress\": \"0a:62:67:78:52:ef\",\n",
      "                    \"NetworkInterfaceId\": \"eni-05613359dd5c16678\",\n",
      "                    \"OwnerId\": \"211966428728\",\n",
      "                    \"PrivateDnsName\": \"ip-172-31-31-82.ec2.internal\",\n",
      "                    \"PrivateIpAddress\": \"172.31.31.82\",\n",
      "                    \"PrivateIpAddresses\": [\n",
      "                        {\n",
      "                            \"Primary\": true,\n",
      "                            \"PrivateDnsName\": \"ip-172-31-31-82.ec2.internal\",\n",
      "                            \"PrivateIpAddress\": \"172.31.31.82\"\n",
      "                        }\n",
      "                    ],\n",
      "                    \"SourceDestCheck\": true,\n",
      "                    \"Status\": \"in-use\",\n",
      "                    \"SubnetId\": \"subnet-84fdd0ce\",\n",
      "                    \"VpcId\": \"vpc-9f18b6e5\",\n",
      "                    \"InterfaceType\": \"interface\"\n",
      "                }\n",
      "            ],\n",
      "            \"RootDeviceName\": \"/dev/sda1\",\n",
      "            \"RootDeviceType\": \"ebs\",\n",
      "            \"SecurityGroups\": [\n",
      "                {\n",
      "                    \"GroupName\": \"launch-wizard-1\",\n",
      "                    \"GroupId\": \"sg-07ee2eedb8836a8a1\"\n",
      "                }\n",
      "            ],\n",
      "            \"SourceDestCheck\": true,\n",
      "            \"StateReason\": {\n",
      "                \"Code\": \"pending\",\n",
      "                \"Message\": \"pending\"\n",
      "            },\n",
      "            \"VirtualizationType\": \"hvm\",\n",
      "            \"CpuOptions\": {\n",
      "                \"CoreCount\": 2,\n",
      "                \"ThreadsPerCore\": 1\n",
      "            },\n",
      "            \"CapacityReservationSpecification\": {\n",
      "                \"CapacityReservationPreference\": \"open\"\n",
      "            },\n",
      "            \"MetadataOptions\": {\n",
      "                \"State\": \"pending\",\n",
      "                \"HttpTokens\": \"optional\",\n",
      "                \"HttpPutResponseHopLimit\": 1,\n",
      "                \"HttpEndpoint\": \"enabled\",\n",
      "                \"HttpProtocolIpv6\": \"disabled\",\n",
      "                \"InstanceMetadataTags\": \"disabled\"\n",
      "            },\n",
      "            \"EnclaveOptions\": {\n",
      "                \"Enabled\": false\n",
      "            },\n",
      "            \"PrivateDnsNameOptions\": {\n",
      "                \"HostnameType\": \"ip-name\",\n",
      "                \"EnableResourceNameDnsARecord\": false,\n",
      "                \"EnableResourceNameDnsAAAARecord\": false\n",
      "            },\n",
      "            \"MaintenanceOptions\": {\n",
      "                \"AutoRecovery\": \"default\"\n",
      "            }\n",
      "        }\n",
      "    ],\n",
      "    \"OwnerId\": \"211966428728\",\n",
      "    \"ReservationId\": \"r-095454385f9f05544\"\n",
      "}\n"
     ]
    }
   ],
   "source": [
    "%%bash\n",
    "aws ec2 run-instances --image-id ami-052efd3df9dad4825 \\\n",
    "    --count 1 \\\n",
    "    --instance-type t2.medium \\\n",
    "    --key-name ec2KeyPair \\\n",
    "    --security-group-ids sg-07ee2eedb8836a8a1"
   ]
  },
  {
   "cell_type": "markdown",
   "metadata": {},
   "source": [
    "Check instance state and id"
   ]
  },
  {
   "cell_type": "code",
   "execution_count": 90,
   "metadata": {},
   "outputs": [
    {
     "name": "stdout",
     "output_type": "stream",
     "text": [
      "[\n",
      "    \"i-02ae84460e0657bd2\",\n",
      "    {\n",
      "        \"Code\": 16,\n",
      "        \"Name\": \"running\"\n",
      "    },\n",
      "    \"ec2-54-157-20-97.compute-1.amazonaws.com\"\n",
      "]\n"
     ]
    }
   ],
   "source": [
    "%%bash\n",
    "aws ec2 describe-instances --instance-id i-02ae84460e0657bd2 \\\n",
    "    --query Reservations[0].Instances[0].[InstanceId,State,PublicDnsName] \\"
   ]
  },
  {
   "cell_type": "markdown",
   "metadata": {},
   "source": [
    "### Install Docker and Minikube"
   ]
  },
  {
   "cell_type": "markdown",
   "metadata": {},
   "source": [
    "SSH into the AWS instance and:\n",
    "- [Install Docker engine on Ubuntu](https://docs.docker.com/engine/install/ubuntu/)\n",
    "- [Install minikube on Ubuntu](https://minikube.sigs.k8s.io/docs/start/)\n",
    "- If `minikube start` returns a \"Docker not healthy\" error, follow [these instructions](https://github.com/kubernetes/minikube/issues/7903#issuecomment-624074810).\n",
    "- [Install Kubectl on Ubuntu](https://kubernetes.io/docs/tasks/tools/install-kubectl-linux/)"
   ]
  },
  {
   "cell_type": "markdown",
   "metadata": {
    "vscode": {
     "languageId": "plaintext"
    }
   },
   "source": [
    "### Install and setup (WSL)"
   ]
  },
  {
   "cell_type": "markdown",
   "metadata": {},
   "source": [
    "Taken from [magda.io](https://magda.io/docs/installing-minikube.html).\n",
    "\n",
    "1. Install Docker-Desktop for Windows\n",
    "2. Install Minikube for Windows\n",
    "3. Install Kubectl in WSL\n",
    "\n",
    "    >```bash\n",
    "    >curl -LO https://storage.googleapis.com/kubernetes-release/release/`curl -s https://storage.googleapis.com/kubernetes-release/release/stable.txt`/bin/linux/amd64/kubectl\n",
    "    >chmod +x ./kubectl\n",
    "    >sudo mv ./kubectl /usr/local/bin/kubectl\n",
    "    >kubectl version --client\n",
    "    >```\n",
    "\n",
    "4. Create `minikube` file with the following script and save it in path.\n",
    "\n",
    "    >```bash\n",
    "    >#!/bin/sh\n",
    "    >/mnt/c/Program\\ Files/Kubernetes/Minikube/minikube.exe $@\n",
    "    >```\n",
    "\n",
    "5. Start minikube\n",
    "\n",
    "    >```bash\n",
    "    >chmod +x minikube\n",
    "    >bash minikube start`\n",
    "    >```\n",
    "\n",
    "6. Copy minikube context, cluster and user configuration from Windows to WSL.\n",
    "\n",
    "    >```bash\n",
    "    >mkdir ~/.kube\n",
    "    >cp /mnt/c/Users/ramir/.kube/config ~/.kube/config \n",
    "    >```\n",
    "\n",
    "7. In `config` replace every path that has Windows format to Linux format (e.g. `C:\\\\` to `/mnt/c/`)\n",
    "\n",
    "7. Create `minikube-go` file with the following script and save it in path.\n",
    "\n",
    "    >```bash\n",
    "    >#!/bin/sh\n",
    "    >eval $(minikube docker-env --shell=bash)\n",
    "    >export DOCKER_CERT_PATH=$(wslpath -u \"${DOCKER_CERT_PATH}\")\n",
    "    >```\n",
    "\n",
    "8. Run `minikube-go` to configure WSL Docker to talk to minikube.\n",
    "\n",
    "    >```bash\n",
    "    >sudo chmod +x minikube-go\n",
    "    >minikube-go\n",
    "    >```\n",
    "\n",
    "9. Check that `minikube` is correctly installed.\n",
    "\n",
    "    >```bash\n",
    "    >minikube version\n",
    "    >```\n"
   ]
  },
  {
   "cell_type": "code",
   "execution_count": 4,
   "metadata": {},
   "outputs": [
    {
     "name": "stdout",
     "output_type": "stream",
     "text": [
      "minikube version: v1.26.0\n",
      "commit: f4b412861bb746be73053c9f6d2895f12cf78565\n"
     ]
    }
   ],
   "source": [
    "%%bash\n",
    "minikube version"
   ]
  },
  {
   "cell_type": "markdown",
   "metadata": {},
   "source": [
    "Check if `kubectl` is correctly installed (if this returns an error, `minikube start` first)"
   ]
  },
  {
   "cell_type": "code",
   "execution_count": 6,
   "metadata": {},
   "outputs": [
    {
     "name": "stderr",
     "output_type": "stream",
     "text": [
      "Flag --short has been deprecated, and will be removed in the future. The --short output will become the default.\n"
     ]
    },
    {
     "name": "stdout",
     "output_type": "stream",
     "text": [
      "Client Version: v1.24.2\n",
      "Kustomize Version: v4.5.4\n",
      "Server Version: v1.24.1\n"
     ]
    }
   ],
   "source": [
    "%%bash\n",
    "kubectl version --short"
   ]
  },
  {
   "cell_type": "markdown",
   "metadata": {},
   "source": [
    "## Create a cluster"
   ]
  },
  {
   "cell_type": "markdown",
   "metadata": {},
   "source": [
    "Start cluster"
   ]
  },
  {
   "cell_type": "code",
   "execution_count": 7,
   "metadata": {},
   "outputs": [
    {
     "name": "stdout",
     "output_type": "stream",
     "text": [
      "* minikube v1.26.0 on Ubuntu 22.04 (xen/amd64)\n",
      "* Automatically selected the docker driver\n",
      "* Using Docker driver with root privileges\n",
      "* Starting control plane node minikube in cluster minikube\n",
      "* Pulling base image ...\n",
      "* Creating docker container (CPUs=2, Memory=2200MB) ...\n",
      "* Preparing Kubernetes v1.24.1 on Docker 20.10.17 ...\n",
      "  - Generating certificates and keys ...\n",
      "  - Booting up control plane ...\n",
      "  - Configuring RBAC rules ...\n",
      "* Verifying Kubernetes components...\n",
      "  - Using image gcr.io/k8s-minikube/storage-provisioner:v5\n",
      "* Enabled addons: storage-provisioner, default-storageclass\n",
      "* Done! kubectl is now configured to use \"minikube\" cluster and \"default\" namespace by default\n"
     ]
    }
   ],
   "source": [
    "%%bash\n",
    "minikube start"
   ]
  },
  {
   "cell_type": "markdown",
   "metadata": {},
   "source": [
    "View cluster details"
   ]
  },
  {
   "cell_type": "code",
   "execution_count": 8,
   "metadata": {},
   "outputs": [
    {
     "name": "stdout",
     "output_type": "stream",
     "text": [
      "\u001b[0;32mKubernetes control plane\u001b[0m is running at \u001b[0;33mhttps://192.168.49.2:8443\u001b[0m\n",
      "\u001b[0;32mCoreDNS\u001b[0m is running at \u001b[0;33mhttps://192.168.49.2:8443/api/v1/namespaces/kube-system/services/kube-dns:dns/proxy\u001b[0m\n",
      "\n",
      "To further debug and diagnose cluster problems, use 'kubectl cluster-info dump'.\n"
     ]
    }
   ],
   "source": [
    "%%bash\n",
    "kubectl cluster-info"
   ]
  },
  {
   "cell_type": "markdown",
   "metadata": {},
   "source": [
    "View cluster nodes"
   ]
  },
  {
   "cell_type": "code",
   "execution_count": 9,
   "metadata": {},
   "outputs": [
    {
     "name": "stdout",
     "output_type": "stream",
     "text": [
      "NAME       STATUS   ROLES           AGE   VERSION\n",
      "minikube   Ready    control-plane   13s   v1.24.1\n"
     ]
    }
   ],
   "source": [
    "%%bash\n",
    "kubectl get nodes"
   ]
  },
  {
   "cell_type": "markdown",
   "metadata": {},
   "source": [
    "## Deploy an application"
   ]
  },
  {
   "cell_type": "markdown",
   "metadata": {},
   "source": [
    "Deploy an application in a Docker container that uses NGINX to echo back all the requests received."
   ]
  },
  {
   "cell_type": "code",
   "execution_count": 10,
   "metadata": {},
   "outputs": [
    {
     "name": "stdout",
     "output_type": "stream",
     "text": [
      "deployment.apps/requester created\n"
     ]
    }
   ],
   "source": [
    "%%bash\n",
    "kubectl create deployment requester --image=gcr.io/google-samples/kubernetes-bootcamp:v1"
   ]
  },
  {
   "cell_type": "markdown",
   "metadata": {},
   "source": [
    "## Explore application"
   ]
  },
  {
   "cell_type": "markdown",
   "metadata": {},
   "source": [
    "From [Kubernetes tutorial](https://kubernetes.io/docs/tutorials/kubernetes-basics/explore/explore-intro/):\n",
    "\n",
    "### Pods \n",
    "\n",
    "A Pod is a Kubernetes abstraction that represents a group of one or more application containers (such as Docker), and some shared resources for those containers. Those resources include:\n",
    "\n",
    "- Shared storage, as Volumes\n",
    "- Networking, as a unique cluster IP address\n",
    "- Information about how to run each container, such as the container image version or specific ports to use\n",
    "\n",
    "A Pod models an application-specific \"logical host\" and can contain different application containers which are relatively tightly coupled. For example, a Pod might include both the container with your Node.js app as well as a different container that feeds the data to be published by the Node.js webserver. The containers in a Pod share an IP Address and port space, are always co-located and co-scheduled, and run in a shared context on the same Node.\n",
    "\n",
    "Pods are the atomic unit on the Kubernetes platform. When we create a Deployment on Kubernetes, that Deployment creates Pods with containers inside them (as opposed to creating containers directly). Each Pod is tied to the Node where it is scheduled, and remains there until termination (according to restart policy) or deletion. In case of a Node failure, identical Pods are scheduled on other available Nodes in the cluster.\n",
    "\n",
    "![module_03_pods.svg](https://d33wubrfki0l68.cloudfront.net/fe03f68d8ede9815184852ca2a4fd30325e5d15a/98064/docs/tutorials/kubernetes-basics/public/images/module_03_pods.svg)\n",
    "\n",
    "### Nodes\n",
    "\n",
    "A Pod always runs on a Node. A Node is a worker machine in Kubernetes and may be either a virtual or a physical machine, depending on the cluster. Each Node is managed by the control plane. A Node can have multiple pods, and the Kubernetes control plane automatically handles scheduling the pods across the Nodes in the cluster. The control plane's automatic scheduling takes into account the available resources on each Node.\n",
    "\n",
    "Every Kubernetes Node runs at least:\n",
    "\n",
    "- Kubelet, a process responsible for communication between the Kubernetes control plane and the Node; it manages the Pods and the containers running on a machine.\n",
    "- A container runtime (like Docker) responsible for pulling the container image from a registry, unpacking the container, and running the application.\n",
    "\n",
    "![node overview](https://d33wubrfki0l68.cloudfront.net/5cb72d407cbe2755e581b6de757e0d81760d5b86/a9df9/docs/tutorials/kubernetes-basics/public/images/module_03_nodes.svg)"
   ]
  },
  {
   "cell_type": "markdown",
   "metadata": {},
   "source": [
    "List deployments"
   ]
  },
  {
   "cell_type": "code",
   "execution_count": 11,
   "metadata": {},
   "outputs": [
    {
     "name": "stdout",
     "output_type": "stream",
     "text": [
      "NAME        READY   UP-TO-DATE   AVAILABLE   AGE\n",
      "requester   1/1     1            1           107s\n"
     ]
    }
   ],
   "source": [
    "%%bash\n",
    "kubectl get deployments"
   ]
  },
  {
   "cell_type": "markdown",
   "metadata": {},
   "source": [
    "##### Interact with application through proxy"
   ]
  },
  {
   "cell_type": "markdown",
   "metadata": {},
   "source": [
    "In a second terminal enable a proxy that will forward communications into the cluster private network. \n",
    "- The proxy uses a Kubernetes API endpoint to communicate with the application.\n",
    "- The connection will not output anything while it is active.\n",
    "- The API server will automatically create an endpoint for each pod, based on the pod name, that is also accessible through the proxy."
   ]
  },
  {
   "cell_type": "code",
   "execution_count": 7,
   "metadata": {},
   "outputs": [],
   "source": [
    "%%bash\n",
    "# Do this in a proper terminal; in Jupyter, each block is run in a new subprocess, so the variables don't persist accross blocks.\n",
    "# kubectl proxy"
   ]
  },
  {
   "cell_type": "markdown",
   "metadata": {},
   "source": [
    "See app's output (notice the `$POD_NAME:8080` bit, which is different than the `minikube` tutorial, where the port is not specified, throwing an error)."
   ]
  },
  {
   "cell_type": "code",
   "execution_count": 8,
   "metadata": {},
   "outputs": [
    {
     "name": "stdout",
     "output_type": "stream",
     "text": [
      "PodName: requester-5978658454-hdpjb\n"
     ]
    },
    {
     "name": "stderr",
     "output_type": "stream",
     "text": [
      "  % Total    % Received % Xferd  Average Speed   Time    Time     Time  Current\n",
      "                                 Dload  Upload   Total   Spent    Left  Speed\n",
      "100    74    0    74    0     0   3797      0 --:--:-- --:--:-- --:--:--  3894\n"
     ]
    },
    {
     "name": "stdout",
     "output_type": "stream",
     "text": [
      "Hello Kubernetes bootcamp! | Running on: requester-5978658454-hdpjb | v=1\n"
     ]
    }
   ],
   "source": [
    "%%bash\n",
    "export POD_NAME=$(kubectl get pods -o go-template --template '{{range .items}}{{.metadata.name}}{{\"\\n\"}}{{end}}') \\\n",
    "&& echo PodName: $POD_NAME \\\n",
    "&& curl http://localhost:8001/api/v1/namespaces/default/pods/$POD_NAME:8080/proxy/"
   ]
  },
  {
   "cell_type": "markdown",
   "metadata": {},
   "source": [
    "Using the connection through the proxy running in the second terminal, query the app version."
   ]
  },
  {
   "cell_type": "code",
   "execution_count": 9,
   "metadata": {},
   "outputs": [
    {
     "name": "stderr",
     "output_type": "stream",
     "text": [
      "  % Total    % Received % Xferd  Average Speed   Time    Time     Time  Current\n",
      "                                 Dload  Upload   Total   Spent    Left  Speed\n",
      "100   263  100   263    0     0  57124      0 --:--:-- --:--:-- --:--:-- 65750\n"
     ]
    },
    {
     "name": "stdout",
     "output_type": "stream",
     "text": [
      "{\n",
      "  \"major\": \"1\",\n",
      "  \"minor\": \"24\",\n",
      "  \"gitVersion\": \"v1.24.1\",\n",
      "  \"gitCommit\": \"3ddd0f45aa91e2f30c70734b175631bec5b5825a\",\n",
      "  \"gitTreeState\": \"clean\",\n",
      "  \"buildDate\": \"2022-05-24T12:18:48Z\",\n",
      "  \"goVersion\": \"go1.18.2\",\n",
      "  \"compiler\": \"gc\",\n",
      "  \"platform\": \"linux/amd64\"\n",
      "}"
     ]
    }
   ],
   "source": [
    "%%bash\n",
    "curl http://127.0.0.1:8001/version"
   ]
  },
  {
   "cell_type": "markdown",
   "metadata": {},
   "source": [
    "Get pod name and access it through the API (i.e. the proxy connection)"
   ]
  },
  {
   "cell_type": "code",
   "execution_count": 10,
   "metadata": {},
   "outputs": [
    {
     "name": "stdout",
     "output_type": "stream",
     "text": [
      "PodName=requester-5978658454-hdpjb\n"
     ]
    },
    {
     "name": "stderr",
     "output_type": "stream",
     "text": [
      "  % Total    % Received % Xferd  Average Speed   Time    Time     Time  Current\n",
      "                                 Dload  Upload   Total   Spent    Left  Speed\n"
     ]
    },
    {
     "name": "stdout",
     "output_type": "stream",
     "text": [
      "{\n",
      "  \"kind\": \"Pod\",\n",
      "  \"apiVersion\": \"v1\",\n",
      "  \"metadata\": {\n",
      "    \"name\": \"requester-5978658454-hdpjb\",\n",
      "    \"generateName\": \"requester-5978658454-\",\n",
      "    \"namespace\": \"default\",\n",
      "    \"uid\": \"f129ee14-79d7-4844-b971-5336c9310994\",\n",
      "    \"resourceVersion\": \"400\",\n",
      "    \"creationTimestamp\": \"2022-07-04T16:06:42Z\",\n",
      "    \"labels\": {\n",
      "      \"app\": \"requester\",\n",
      "      \"pod-template-hash\": \"5978658454\"\n",
      "    },\n",
      "    \"ownerReferences\": [\n",
      "      {\n",
      "        \"apiVersion\": \"apps/v1\",\n",
      "        \"kind\": \"ReplicaSet\",\n",
      "        \"name\": \"requester-5978658454\",\n",
      "        \"uid\": \"54f5b93c-baea-435d-a238-b964bdc7727b\",\n",
      "        \"controller\": true,\n",
      "        \"blockOwnerDeletion\": true\n",
      "      }\n",
      "    ],\n",
      "    \"managedFields\": [\n",
      "      {\n",
      "        \"manager\": \"kube-controller-manager\",\n",
      "        \"operation\": \"Update\",\n",
      "        \"apiVersion\": \"v1\",\n",
      "        \"time\": \"2022-07-04T16:06:42Z\",\n",
      "        \"fieldsType\": \"FieldsV1\",\n",
      "        \"fieldsV1\": {\n",
      "          \"f:metadata\": {\n",
      "            \"f:generateName\": {},\n",
      "            \"f:labels\": {\n",
      "              \".\": {},\n",
      "              \"f:app\": {},\n",
      "              \"f:pod-template-hash\": {}\n",
      "            },\n",
      "            \"f:ownerReferences\": {\n",
      "              \".\": {},\n",
      "              \"k:{\\\"uid\\\":\\\"54f5b93c-baea-435d-a238-b964bdc7727b\\\"}\": {}\n",
      "            }\n",
      "          },\n",
      "          \"f:spec\": {\n",
      "            \"f:containers\": {\n",
      "              \"k:{\\\"name\\\":\\\"kubernetes-bootcamp\\\"}\": {\n",
      "                \".\": {},\n",
      "                \"f:image\": {},\n",
      "                \"f:imagePullPolicy\": {},\n",
      "                \"f:name\": {},\n",
      "                \"f:resources\": {},\n",
      "                \"f:terminationMessagePath\": {},\n",
      "                \"f:terminationMessagePolicy\": {}\n",
      "              }\n",
      "            },\n",
      "            \"f:dnsPolicy\": {},\n",
      "            \"f:enableServiceLinks\": {},\n",
      "            \"f:restartPolicy\": {},\n",
      "            \"f:schedulerName\": {},\n",
      "            \"f:securityContext\": {},\n",
      "            \"f:terminationGracePeriodSeconds\": {}\n",
      "          }\n",
      "        }\n",
      "      },\n",
      "      {\n",
      "        \"manager\": \"kubelet\",\n",
      "        \"operation\": \"Update\",\n",
      "        \"apiVersion\": \"v1\",\n",
      "        \"time\": \"2022-07-04T16:06:51Z\",\n",
      "        \"fieldsType\": \"FieldsV1\",\n",
      "        \"fieldsV1\": {\n",
      "          \"f:status\": {\n",
      "            \"f:conditions\": {\n",
      "              \"k:{\\\"type\\\":\\\"ContainersReady\\\"}\": {\n",
      "                \".\": {},\n",
      "                \"f:lastProbeTime\": {},\n",
      "                \"f:lastTransitionTime\": {},\n",
      "                \"f:status\": {},\n",
      "                \"f:type\": {}\n",
      "              },\n",
      "              \"k:{\\\"type\\\":\\\"Initialized\\\"}\": {\n",
      "                \".\": {},\n",
      "                \"f:lastProbeTime\": {},\n",
      "                \"f:lastTransitionTime\": {},\n",
      "                \"f:status\": {},\n",
      "                \"f:type\": {}\n",
      "              },\n",
      "              \"k:{\\\"type\\\":\\\"Ready\\\"}\": {\n",
      "                \".\": {},\n",
      "                \"f:lastProbeTime\": {},\n",
      "                \"f:lastTransitionTime\": {},\n",
      "                \"f:status\": {},\n",
      "                \"f:type\": {}\n",
      "              }\n",
      "            },\n",
      "            \"f:containerStatuses\": {},\n",
      "            \"f:hostIP\": {},\n",
      "            \"f:phase\": {},\n",
      "            \"f:podIP\": {},\n",
      "            \"f:podIPs\": {\n",
      "              \".\": {},\n",
      "              \"k:{\\\"ip\\\":\\\"172.17.0.3\\\"}\": {\n",
      "                \".\": {},\n",
      "                \"f:ip\": {}\n",
      "              }\n",
      "            },\n",
      "            \"f:startTime\": {}\n",
      "          }\n",
      "        },\n",
      "        \"subresource\": \"status\"\n",
      "      }\n",
      "    ]\n",
      "  },\n",
      "  \"spec\": {\n",
      "    \"volumes\": [\n",
      "      {\n",
      "        \"name\": \"kube-api-access-tf62n\",\n",
      "        \"projected\": {\n",
      "          \"sources\": [\n",
      "            {\n",
      "              \"serviceAccountToken\": {\n",
      "                \"expirationSeconds\": 3607,\n",
      "                \"path\": \"token\"\n",
      "              }\n",
      "            },\n",
      "            {\n",
      "              \"configMap\": {\n",
      "                \"name\": \"kube-root-ca.crt\",\n",
      "                \"items\": [\n",
      "                  {\n",
      "                    \"key\": \"ca.crt\",\n",
      "                    \"path\": \"ca.crt\"\n",
      "                  }\n",
      "                ]\n",
      "              }\n",
      "            },\n",
      "            {\n",
      "              \"downwardAPI\": {\n",
      "                \"items\": [\n",
      "                  {\n",
      "                    \"path\": \"namespace\",\n",
      "                    \"fieldRef\": {\n",
      "                      \"apiVersion\": \"v1\",\n",
      "                      \"fieldPath\": \"metadata.namespace\"\n",
      "                    }\n",
      "                  }\n",
      "                ]\n",
      "              }\n",
      "            }\n",
      "          ],\n",
      "          \"defaultMode\": 420\n",
      "        }\n",
      "      }\n",
      "    ],\n",
      "    \"containers\": [\n",
      "      {\n",
      "        \"name\": \"kubernetes-bootcamp\",\n",
      "        \"image\": \"gcr.io/google-samples/kubernetes-bootcamp:v1\",\n",
      "        \"resources\": {},\n",
      "        \"volumeMounts\": [\n",
      "          {\n",
      "            \"name\": \"kube-api-access-tf62n\",\n",
      "            \"readOnly\": true,\n",
      "            \"mountPath\": \"/var/run/secrets/kubernetes.io/serviceaccount\"\n",
      "          }\n",
      "        ],\n",
      "        \"terminationMessagePath\": \"/dev/termination-log\",\n",
      "        \"terminationMessagePolicy\": \"File\",\n",
      "        \"imagePullPolicy\": \"IfNotPresent\"\n",
      "      }\n",
      "    ],\n",
      "    \"restartPolicy\": \"Always\",\n",
      "    \"terminationGracePeriodSeconds\": 30,\n",
      "    \"dnsPolicy\": \"ClusterFirst\",\n",
      "    \"serviceAccountName\": \"default\",\n",
      "    \"serviceAccount\": \"default\",\n",
      "    \"nodeName\": \"minikube\",\n",
      "    \"securityContext\": {},\n",
      "    \"schedulerName\": \"default-scheduler\",\n",
      "    \"tolerations\": [\n",
      "      {\n",
      "        \"key\": \"node.kubernetes.io/not-ready\",\n",
      "        \"operator\": \"Exists\",\n",
      "        \"effect\": \"NoExecute\",\n",
      "        \"tolerationSeconds\": 300\n",
      "      },\n",
      "      {\n",
      "        \"key\": \"node.kubernetes.io/unreachable\",\n",
      "        \"operator\": \"Exists\",\n",
      "        \"effect\": \"NoExecute\",\n",
      "        \"tolerationSeconds\": 300\n",
      "      }\n",
      "    ],\n",
      "    \"priority\": 0,\n",
      "    \"enableServiceLinks\": true,\n",
      "    \"preemptionPolicy\": \"PreemptLowerPriority\"\n",
      "  },\n",
      "  \"status\": {\n",
      "    \"phase\": \"Running\",\n",
      "    \"conditions\": [\n",
      "      {\n",
      "        \"type\": \"Initialized\",\n",
      "        \"status\": \"True\",\n",
      "        \"lastProbeTime\": null,\n",
      "        \"lastTransitionTime\": \"2022-07-04T16:06:42Z\"\n",
      "      },\n",
      "      {\n",
      "        \"type\": \"Ready\",\n",
      "        \"status\": \"True\",\n",
      "        \"lastProbeTime\": null,\n",
      "        \"lastTransitionTime\": \"2022-07-04T16:06:51Z\"\n",
      "      },\n",
      "      {\n",
      "        \"type\": \"ContainersReady\",\n",
      "        \"status\": \"True\",\n",
      "        \"lastProbeTime\": null,\n",
      "        \"lastTransitionTime\": \"2022-07-04T16:06:51Z\"\n",
      "      },\n",
      "      {\n",
      "        \"type\": \"PodScheduled\",\n",
      "        \"status\": \"True\",\n",
      "        \"lastProbeTime\": null,\n",
      "        \"lastTransitionTime\": \"2022-07-04T16:06:42Z\"\n",
      "      }\n",
      "    ],\n",
      "    \"hostIP\": \"192.168.49.2\",\n",
      "    \"podIP\": \"172.17.0.3\",\n",
      "    \"podIPs\": [\n",
      "      {\n",
      "        \"ip\": \"172.17.0.3\"\n",
      "      }\n",
      "    ],\n",
      "    \"startTime\": \"2022-07-04T16:06:42Z\",\n",
      "    \"containerStatuses\": [\n",
      "      {\n",
      "        \"name\": \"kubernetes-bootcamp\",\n",
      "        \"state\": {\n",
      "          \"running\": {\n",
      "            \"startedAt\": \"2022-07-04T16:06:51Z\"\n",
      "          }\n",
      "        },\n",
      "        \"lastState\": {},\n",
      "        \"ready\": true,\n",
      "        \"restartCount\": 0,\n",
      "        \"image\": \"gcr.io/google-samples/kubernetes-bootcamp:v1\",\n",
      "        \"imageID\": \"docker-pullable://gcr.io/google-samples/kubernetes-bootcamp@sha256:0d6b8ee63bb57c5f5b6156f446b3bc3b3c143d233037f3a2f00e279c8fcc64af\",\n",
      "        \"containerID\": \"docker://984df3174a844d626c88e1752f1c5fd2f555bd6f0635317c5b3a07dd10455e19\",\n",
      "        \"started\": true\n",
      "      }\n",
      "    ],\n",
      "    \"qosClass\": \"BestEffort\"\n",
      "  }\n"
     ]
    },
    {
     "name": "stderr",
     "output_type": "stream",
     "text": [
      "100  7001    0  7001    0     0  2353k      0 --:--:-- --:--:-- --:--:-- 3418k\n"
     ]
    },
    {
     "name": "stdout",
     "output_type": "stream",
     "text": [
      "}"
     ]
    }
   ],
   "source": [
    "%%bash\n",
    "export POD_NAME=$(kubectl get pods -o go-template --template '{{range .items}}{{.metadata.name}}{{\"\\n\"}}{{end}}') \\\n",
    "&& echo PodName=$POD_NAME \\\n",
    "&& curl http://127.0.0.1:8001/api/v1/namespaces/default/pods/$POD_NAME/"
   ]
  },
  {
   "cell_type": "markdown",
   "metadata": {},
   "source": [
    "#### Interact with application via `kubectl`"
   ]
  },
  {
   "cell_type": "markdown",
   "metadata": {},
   "source": [
    "Get pods"
   ]
  },
  {
   "cell_type": "code",
   "execution_count": 12,
   "metadata": {},
   "outputs": [
    {
     "name": "stdout",
     "output_type": "stream",
     "text": [
      "NAME                         READY   STATUS    RESTARTS   AGE\n",
      "requester-5978658454-hdpjb   1/1     Running   0          57m\n"
     ]
    }
   ],
   "source": [
    "%%bash\n",
    "kubectl get pods"
   ]
  },
  {
   "cell_type": "markdown",
   "metadata": {},
   "source": [
    "Describe pods"
   ]
  },
  {
   "cell_type": "code",
   "execution_count": 13,
   "metadata": {},
   "outputs": [
    {
     "name": "stdout",
     "output_type": "stream",
     "text": [
      "Name:         requester-5978658454-hdpjb\n",
      "Namespace:    default\n",
      "Priority:     0\n",
      "Node:         minikube/192.168.49.2\n",
      "Start Time:   Mon, 04 Jul 2022 16:06:42 +0000\n",
      "Labels:       app=requester\n",
      "              pod-template-hash=5978658454\n",
      "Annotations:  <none>\n",
      "Status:       Running\n",
      "IP:           172.17.0.3\n",
      "IPs:\n",
      "  IP:           172.17.0.3\n",
      "Controlled By:  ReplicaSet/requester-5978658454\n",
      "Containers:\n",
      "  kubernetes-bootcamp:\n",
      "    Container ID:   docker://984df3174a844d626c88e1752f1c5fd2f555bd6f0635317c5b3a07dd10455e19\n",
      "    Image:          gcr.io/google-samples/kubernetes-bootcamp:v1\n",
      "    Image ID:       docker-pullable://gcr.io/google-samples/kubernetes-bootcamp@sha256:0d6b8ee63bb57c5f5b6156f446b3bc3b3c143d233037f3a2f00e279c8fcc64af\n",
      "    Port:           <none>\n",
      "    Host Port:      <none>\n",
      "    State:          Running\n",
      "      Started:      Mon, 04 Jul 2022 16:06:51 +0000\n",
      "    Ready:          True\n",
      "    Restart Count:  0\n",
      "    Environment:    <none>\n",
      "    Mounts:\n",
      "      /var/run/secrets/kubernetes.io/serviceaccount from kube-api-access-tf62n (ro)\n",
      "Conditions:\n",
      "  Type              Status\n",
      "  Initialized       True \n",
      "  Ready             True \n",
      "  ContainersReady   True \n",
      "  PodScheduled      True \n",
      "Volumes:\n",
      "  kube-api-access-tf62n:\n",
      "    Type:                    Projected (a volume that contains injected data from multiple sources)\n",
      "    TokenExpirationSeconds:  3607\n",
      "    ConfigMapName:           kube-root-ca.crt\n",
      "    ConfigMapOptional:       <nil>\n",
      "    DownwardAPI:             true\n",
      "QoS Class:                   BestEffort\n",
      "Node-Selectors:              <none>\n",
      "Tolerations:                 node.kubernetes.io/not-ready:NoExecute op=Exists for 300s\n",
      "                             node.kubernetes.io/unreachable:NoExecute op=Exists for 300s\n",
      "Events:\n",
      "  Type    Reason     Age   From               Message\n",
      "  ----    ------     ----  ----               -------\n",
      "  Normal  Scheduled  57m   default-scheduler  Successfully assigned default/requester-5978658454-hdpjb to minikube\n",
      "  Normal  Pulling    57m   kubelet            Pulling image \"gcr.io/google-samples/kubernetes-bootcamp:v1\"\n",
      "  Normal  Pulled     57m   kubelet            Successfully pulled image \"gcr.io/google-samples/kubernetes-bootcamp:v1\" in 5.92266605s\n",
      "  Normal  Created    57m   kubelet            Created container kubernetes-bootcamp\n",
      "  Normal  Started    57m   kubelet            Started container kubernetes-bootcamp\n"
     ]
    }
   ],
   "source": [
    "%%bash\n",
    "kubectl describe pods"
   ]
  },
  {
   "cell_type": "markdown",
   "metadata": {},
   "source": [
    "View container logs"
   ]
  },
  {
   "cell_type": "code",
   "execution_count": 14,
   "metadata": {},
   "outputs": [
    {
     "name": "stdout",
     "output_type": "stream",
     "text": [
      "Kubernetes Bootcamp App Started At: 2022-07-04T16:06:51.306Z | Running On:  requester-5978658454-hdpjb \n",
      "\n",
      "Running On: requester-5978658454-hdpjb | Total Requests: 1 | App Uptime: 3334.356 seconds | Log Time: 2022-07-04T17:02:25.662Z\n"
     ]
    }
   ],
   "source": [
    "%%bash\n",
    "export POD_NAME=$(kubectl get pods -o go-template --template '{{range .items}}{{.metadata.name}}{{\"\\n\"}}{{end}}') \\\n",
    "&& kubectl logs $POD_NAME"
   ]
  },
  {
   "cell_type": "markdown",
   "metadata": {},
   "source": [
    "List environment variables"
   ]
  },
  {
   "cell_type": "code",
   "execution_count": 15,
   "metadata": {},
   "outputs": [
    {
     "name": "stdout",
     "output_type": "stream",
     "text": [
      "PATH=/usr/local/sbin:/usr/local/bin:/usr/sbin:/usr/bin:/sbin:/bin\n",
      "HOSTNAME=requester-5978658454-hdpjb\n",
      "KUBERNETES_PORT_443_TCP_PROTO=tcp\n",
      "KUBERNETES_PORT_443_TCP_PORT=443\n",
      "KUBERNETES_PORT_443_TCP_ADDR=10.96.0.1\n",
      "KUBERNETES_SERVICE_HOST=10.96.0.1\n",
      "KUBERNETES_SERVICE_PORT=443\n",
      "KUBERNETES_SERVICE_PORT_HTTPS=443\n",
      "KUBERNETES_PORT=tcp://10.96.0.1:443\n",
      "KUBERNETES_PORT_443_TCP=tcp://10.96.0.1:443\n",
      "NPM_CONFIG_LOGLEVEL=info\n",
      "NODE_VERSION=6.3.1\n",
      "HOME=/root\n"
     ]
    }
   ],
   "source": [
    "%%bash\n",
    "export POD_NAME=$(kubectl get pods -o go-template --template '{{range .items}}{{.metadata.name}}{{\"\\n\"}}{{end}}') \\\n",
    "&& kubectl exec $POD_NAME -- env"
   ]
  },
  {
   "cell_type": "markdown",
   "metadata": {},
   "source": [
    "Start a Bash session in the pod's container (run in a proper terminal)"
   ]
  },
  {
   "cell_type": "markdown",
   "metadata": {},
   "source": [
    "```bash\n",
    "$ kubectl exec -ti $POD_NAME -- bash\n",
    "root@kubernetes-bootcamp-fb5c67579-pbnlv:/# cat server.js\n",
    "  var http = require('http');\n",
    "  var requests=0;\n",
    "  var podname= process.env.HOSTNAME;\n",
    "  var startTime;\n",
    "  var host;\n",
    "  var handleRequest = function(request, response) {\n",
    "    response.setHeader('Content-Type', 'text/plain');\n",
    "    response.writeHead(200);\n",
    "    response.write(\"Hello Kubernetes bootcamp! | Running on: \");\n",
    "    response.write(host);\n",
    "    response.end(\" | v=1\\n\");\n",
    "    console.log(\"Running On:\" ,host, \"| Total Requests:\", ++requests,\"| App Uptime:\", (new Date() - startTime)/1000 , \"seconds\", \"| Log Time:\",new Date());\n",
    "  }\n",
    "  var www = http.createServer(handleRequest);\n",
    "  www.listen(8080,function () {\n",
    "      startTime = new Date();;\n",
    "      host = process.env.HOSTNAME;\n",
    "      console.log (\"Kubernetes Bootcamp App Started At:\",startTime, \"| Running On: \" ,host, \"\\n\" );\n",
    "  });\n",
    "```"
   ]
  },
  {
   "cell_type": "markdown",
   "metadata": {},
   "source": [
    "### Expose app publicly"
   ]
  },
  {
   "cell_type": "markdown",
   "metadata": {},
   "source": [
    "#### Overview of Kubernetes Services\n",
    "\n",
    "Kubernetes Pods are mortal. Pods in fact have a lifecycle. When a worker node dies, the Pods running on the Node are also lost. A ReplicaSet might then dynamically drive the cluster back to desired state via creation of new Pods to keep your application running. As another example, consider an image-processing backend with 3 replicas. Those replicas are exchangeable; the front-end system should not care about backend replicas or even if a Pod is lost and recreated. That said, each Pod in a Kubernetes cluster has a unique IP address, even Pods on the same Node, so there needs to be a way of automatically reconciling changes among Pods so that your applications continue to function.\n",
    "\n",
    "A Service in Kubernetes is an abstraction which defines a logical set of Pods and a policy by which to access them. Services enable a loose coupling between dependent Pods. A Service is defined using YAML (preferred) or JSON, like all Kubernetes objects. The set of Pods targeted by a Service is usually determined by a LabelSelector (see below for why you might want a Service without including selector in the spec).\n",
    "\n",
    "Although each Pod has a unique IP address, those IPs are not exposed outside the cluster without a Service. Services allow your applications to receive traffic. Services can be exposed in different ways by specifying a type in the ServiceSpec:\n",
    "\n",
    "- ClusterIP (default) - Exposes the Service on an internal IP in the cluster. This type makes the Service only reachable from within the cluster.\n",
    "- NodePort - Exposes the Service on the same port of each selected Node in the cluster using NAT. Makes a Service accessible from outside the cluster using <NodeIP>:<NodePort>. Superset of ClusterIP.\n",
    "- LoadBalancer - Creates an external load balancer in the current cloud (if supported) and assigns a fixed, external IP to the Service. Superset of NodePort.\n",
    "- ExternalName - Maps the Service to the contents of the externalName field (e.g. foo.bar.example.com), by returning a CNAME record with its value. No proxying of any kind is set up. This type requires v1.7 or higher of kube-dns, or CoreDNS version 0.0.8 or higher.\n",
    "\n",
    "More information about the different types of Services can be found in the Using Source IP tutorial. Also see Connecting Applications with Services.\n",
    "\n",
    "Additionally, note that there are some use cases with Services that involve not defining selector in the spec. A Service created without selector will also not create the corresponding Endpoints object. This allows users to manually map a Service to specific endpoints. Another possibility why there may be no selector is you are strictly using type: ExternalName.\n",
    "A Kubernetes Service is an abstraction layer which defines a logical set of Pods and enables external traffic exposure, load balancing and service discovery for those Pods.\n",
    "\n",
    "#### Services and Labels\n",
    "\n",
    "A Service routes traffic across a set of Pods. Services are the abstraction that allows pods to die and replicate in Kubernetes without impacting your application. Discovery and routing among dependent Pods (such as the frontend and backend components in an application) are handled by Kubernetes Services.\n",
    "\n",
    "Services match a set of Pods using labels and selectors, a grouping primitive that allows logical operation on objects in Kubernetes. Labels are key/value pairs attached to objects and can be used in any number of ways:\n",
    "\n",
    "- Designate objects for development, test, and production\n",
    "- Embed version tags\n",
    "- Classify an object using tags\n",
    "\n",
    "![services and labels](https://d33wubrfki0l68.cloudfront.net/7a13fe12acc9ea0728460c482c67e0eb31ff5303/2c8a7/docs/tutorials/kubernetes-basics/public/images/module_04_labels.svg)"
   ]
  },
  {
   "cell_type": "markdown",
   "metadata": {},
   "source": [
    "#### Services practice"
   ]
  },
  {
   "cell_type": "markdown",
   "metadata": {},
   "source": [
    "Get current services. When the deployment is run, a default `ClusterIP` service is created by default."
   ]
  },
  {
   "cell_type": "code",
   "execution_count": 16,
   "metadata": {},
   "outputs": [
    {
     "name": "stdout",
     "output_type": "stream",
     "text": [
      "NAME         TYPE        CLUSTER-IP   EXTERNAL-IP   PORT(S)   AGE\n",
      "kubernetes   ClusterIP   10.96.0.1    <none>        443/TCP   72m\n"
     ]
    }
   ],
   "source": [
    "%%bash\n",
    "kubectl get services"
   ]
  },
  {
   "cell_type": "markdown",
   "metadata": {},
   "source": [
    "Create new `NodePort` Service"
   ]
  },
  {
   "cell_type": "code",
   "execution_count": 17,
   "metadata": {},
   "outputs": [
    {
     "name": "stdout",
     "output_type": "stream",
     "text": [
      "service/requester exposed\n"
     ]
    }
   ],
   "source": [
    "%%bash\n",
    "kubectl expose deployment/requester --type=\"NodePort\" --port 8080"
   ]
  },
  {
   "cell_type": "markdown",
   "metadata": {},
   "source": [
    "Check that Service was correctly created"
   ]
  },
  {
   "cell_type": "code",
   "execution_count": 18,
   "metadata": {},
   "outputs": [
    {
     "name": "stdout",
     "output_type": "stream",
     "text": [
      "NAME         TYPE        CLUSTER-IP       EXTERNAL-IP   PORT(S)          AGE\n",
      "kubernetes   ClusterIP   10.96.0.1        <none>        443/TCP          73m\n",
      "requester    NodePort    10.103.182.142   <none>        8080:30563/TCP   4s\n"
     ]
    }
   ],
   "source": [
    "%%bash\n",
    "kubectl get services"
   ]
  },
  {
   "cell_type": "code",
   "execution_count": 19,
   "metadata": {},
   "outputs": [
    {
     "name": "stdout",
     "output_type": "stream",
     "text": [
      "Name:                     requester\n",
      "Namespace:                default\n",
      "Labels:                   app=requester\n",
      "Annotations:              <none>\n",
      "Selector:                 app=requester\n",
      "Type:                     NodePort\n",
      "IP Family Policy:         SingleStack\n",
      "IP Families:              IPv4\n",
      "IP:                       10.103.182.142\n",
      "IPs:                      10.103.182.142\n",
      "Port:                     <unset>  8080/TCP\n",
      "TargetPort:               8080/TCP\n",
      "NodePort:                 <unset>  30563/TCP\n",
      "Endpoints:                172.17.0.3:8080\n",
      "Session Affinity:         None\n",
      "External Traffic Policy:  Cluster\n",
      "Events:                   <none>\n"
     ]
    }
   ],
   "source": [
    "%%bash\n",
    "kubectl describe services/requester"
   ]
  },
  {
   "cell_type": "markdown",
   "metadata": {},
   "source": [
    "Find which port is opened in the node."
   ]
  },
  {
   "cell_type": "code",
   "execution_count": 20,
   "metadata": {},
   "outputs": [
    {
     "name": "stdout",
     "output_type": "stream",
     "text": [
      "NodePort:                 <unset>  30563/TCP\n"
     ]
    }
   ],
   "source": [
    "%%bash\n",
    "kubectl describe services/requester | grep \"^NodePort:.*\""
   ]
  },
  {
   "cell_type": "markdown",
   "metadata": {},
   "source": [
    "Alterntatively,"
   ]
  },
  {
   "cell_type": "code",
   "execution_count": 21,
   "metadata": {},
   "outputs": [
    {
     "name": "stdout",
     "output_type": "stream",
     "text": [
      "30563\n"
     ]
    }
   ],
   "source": [
    "%%bash \n",
    "export NODE_PORT=$(kubectl get services/requester -o go-template='{{(index .spec.ports 0).nodePort}}')\n",
    "echo $NODE_PORT"
   ]
  },
  {
   "cell_type": "markdown",
   "metadata": {},
   "source": [
    "Test that the app is exposed outside the cluster."
   ]
  },
  {
   "cell_type": "code",
   "execution_count": 22,
   "metadata": {},
   "outputs": [
    {
     "name": "stdout",
     "output_type": "stream",
     "text": [
      "192.168.49.2\n"
     ]
    }
   ],
   "source": [
    "%%bash\n",
    "minikube ip"
   ]
  },
  {
   "cell_type": "code",
   "execution_count": 23,
   "metadata": {},
   "outputs": [
    {
     "name": "stderr",
     "output_type": "stream",
     "text": [
      "  % Total    % Received % Xferd  Average Speed   Time    Time     Time  Current\n",
      "                                 Dload  Upload   Total   Spent    Left  Speed\n",
      "100    74    0    74    0     0  26685      0 --:--:-- --:--:-- --:--:-- 37000\n"
     ]
    },
    {
     "name": "stdout",
     "output_type": "stream",
     "text": [
      "Hello Kubernetes bootcamp! | Running on: requester-5978658454-hdpjb | v=1\n"
     ]
    }
   ],
   "source": [
    "%%bash \n",
    "export NODE_PORT=$(kubectl get services/requester -o go-template='{{(index .spec.ports 0).nodePort}}')\n",
    "curl $(minikube ip):$NODE_PORT"
   ]
  }
 ],
 "metadata": {
  "kernelspec": {
   "display_name": "Python 3.10.4 ('main')",
   "language": "python",
   "name": "python3"
  },
  "language_info": {
   "codemirror_mode": {
    "name": "ipython",
    "version": 3
   },
   "file_extension": ".py",
   "mimetype": "text/x-python",
   "name": "python",
   "nbconvert_exporter": "python",
   "pygments_lexer": "ipython3",
   "version": "3.10.4"
  },
  "orig_nbformat": 4,
  "vscode": {
   "interpreter": {
    "hash": "47b03cd69c88b9e050093e719cbe9ec8900da537c302f856dad35089a609732c"
   }
  }
 },
 "nbformat": 4,
 "nbformat_minor": 2
}
